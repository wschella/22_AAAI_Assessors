{
 "cells": [
  {
   "cell_type": "markdown",
   "id": "0d8b86bf",
   "metadata": {},
   "source": [
    "## Setup"
   ]
  },
  {
   "cell_type": "code",
   "execution_count": 1,
   "id": "2a1d71c1-768c-4192-a371-479cae41b522",
   "metadata": {},
   "outputs": [],
   "source": [
    "from typing import *\n",
    "from pathlib import Path\n",
    "\n",
    "import torch\n",
    "import torchmetrics\n",
    "import pytorch_lightning as pl\n",
    "import pytorch_lightning.callbacks as pl_callbacks\n",
    "import pandas as pd\n",
    "import numpy as np\n",
    "import matplotlib.pyplot as plt\n",
    "from torch.utils.data import DataLoader, Dataset, Subset\n",
    "from sklearn import preprocessing\n",
    "from sklearn.model_selection import KFold"
   ]
  },
  {
   "cell_type": "code",
   "execution_count": 2,
   "id": "0258767c",
   "metadata": {},
   "outputs": [
    {
     "name": "stdout",
     "output_type": "stream",
     "text": [
      "env: CUDA_VISIBLE_DEVICES=\"\"\n"
     ]
    }
   ],
   "source": [
    "# Make most code deterministic\n",
    "import random\n",
    "import os\n",
    "SEED = 1234\n",
    "random.seed(SEED)\n",
    "torch.manual_seed(random.randint(1, 1_000_000))\n",
    "torch.cuda.manual_seed(random.randint(1, 1_000_000))\n",
    "np.random.seed(random.randint(1, 1_000_000))\n",
    "os.environ[\"PYTHONHASHSEED\"] = str(random.randint(1, 1_000_000))\n",
    "\n",
    "# Hide GPU's even if available (which also silences some annoying warnings)\n",
    "%env CUDA_VISIBLE_DEVICES=\"\"\n",
    "\n",
    "# Disable the DataLoaders workers warning, cause we use 0 intentionally for determinism\n",
    "import warnings\n",
    "warnings.filterwarnings(\"ignore\", \".*does not have many workers.*\")\n",
    "\n",
    "# Disable Torch Lightning accelerator availability message\n",
    "import logging\n",
    "logging.getLogger(\"pytorch_lightning\").setLevel(logging.WARNING)"
   ]
  },
  {
   "cell_type": "markdown",
   "id": "94f6e68b",
   "metadata": {},
   "source": [
    "## Dataset"
   ]
  },
  {
   "cell_type": "code",
   "execution_count": 3,
   "id": "96481596-4242-4562-a152-3bd4da399897",
   "metadata": {},
   "outputs": [],
   "source": [
    "class SegmentDataset(Dataset):\n",
    "    def __init__(self, data_dir: str = './'):\n",
    "        self.data_dir = data_dir\n",
    "        self.n_classes = 7\n",
    "        self.label_encoder = preprocessing.LabelEncoder()\n",
    "        self.scaler = preprocessing.StandardScaler()\n",
    "\n",
    "        df = pd.read_csv(Path(self.data_dir) / 'segment.csv')\n",
    "        targets = df.pop('class')\n",
    "        \n",
    "        # Encode labels\n",
    "        self.features = pd.DataFrame(self.scaler.fit_transform(df), columns=df.columns).astype(np.float32)\n",
    "        self.targets = pd.DataFrame(self.label_encoder.fit_transform(targets))\n",
    "\n",
    "    def __getitem__(self, idx):\n",
    "        return self.features.iloc[idx].to_numpy(), self.targets.iat[idx, 0] # type: ignore\n",
    "\n",
    "    def __len__(self):\n",
    "        return len(self.features)\n",
    "\n",
    "def kfold(dataset: Dataset, n_folds: int):\n",
    "    \"\"\"\n",
    "    Split a dataset into n_folds folds, where the test partitions are non overlapping.\n",
    "    \"\"\"\n",
    "    length = len(dataset) # type: ignore\n",
    "    splits = list(KFold(n_splits=n_folds, shuffle=True, random_state=SEED).split(range(length)))\n",
    "    return [(Subset(dataset, train_indices), Subset(dataset, test_indices)) for train_indices, test_indices in splits]\n",
    "\n",
    "class TransformDataset(Dataset):\n",
    "    \"\"\"\n",
    "    Utility class to apply a transformation to an existing dataset.\n",
    "    \"\"\"\n",
    "    def __init__(self, dataset: Dataset, transform):\n",
    "        self.dataset = dataset\n",
    "        self.transform = transform\n",
    "\n",
    "    def __getitem__(self, idx):\n",
    "        return self.transform(self.dataset[idx])\n",
    "    \n",
    "    def __len__(self):\n",
    "        return len(self.dataset) # type: ignore\n",
    "\n",
    "class EnumerateDataset(Dataset):\n",
    "    \"\"\"\n",
    "    Utility class to enumerate the items of an an existing dataset.\n",
    "    \"\"\"\n",
    "    def __init__(self, dataset: Dataset):\n",
    "        self.dataset = dataset\n",
    "    \n",
    "    def __getitem__(self, idx):\n",
    "        return idx, self.dataset[idx]\n",
    "    \n",
    "    def __len__(self):\n",
    "        return len(self.dataset) # type: ignore"
   ]
  },
  {
   "cell_type": "markdown",
   "id": "b1c14f29",
   "metadata": {},
   "source": [
    "## Define the task system\n",
    "A small neural net with 10 hidden neurons."
   ]
  },
  {
   "cell_type": "code",
   "execution_count": 4,
   "id": "eef2ac4e",
   "metadata": {},
   "outputs": [],
   "source": [
    "class SegmentModel(pl.LightningModule):\n",
    "    def __init__(self, hidden_dim: int = 10, num_classes: int = 7):\n",
    "        super().__init__()\n",
    "        self.hidden_dim = hidden_dim\n",
    "        self.num_classes = num_classes\n",
    "        self.model = torch.nn.Sequential(\n",
    "            torch.nn.Linear(19, hidden_dim),\n",
    "            torch.nn.ReLU(),\n",
    "            torch.nn.Linear(hidden_dim, num_classes),\n",
    "            torch.nn.Softmax(dim=1)\n",
    "        )\n",
    "        # self.loss = F.nll_loss\n",
    "        self.loss = torch.nn.CrossEntropyLoss()\n",
    "        self.accuracy = torchmetrics.Accuracy()\n",
    "\n",
    "    def configure_optimizers(self):  # type: ignore\n",
    "        return torch.optim.Adam(self.parameters(), lr=0.007)\n",
    "\n",
    "    def forward(self, x): # type: ignore\n",
    "        return self.model(x)\n",
    "\n",
    "    def _get_metrics(self, batch):\n",
    "        x, y = batch\n",
    "        logits = self(x)\n",
    "        loss = self.loss(logits, y)\n",
    "        preds = torch.argmax(logits, dim=1)\n",
    "        acc = self.accuracy(preds, y)\n",
    "        return logits, loss, acc\n",
    "\n",
    "    def training_step(self, batch, batch_idx): #type: ignore\n",
    "        _, loss, acc = self._get_metrics(batch)\n",
    "        self.log('train_loss', loss, on_step=True, on_epoch=True)\n",
    "        self.log('train_acc', acc, on_step=True, on_epoch=True)\n",
    "        return loss\n",
    "\n",
    "    def validation_step(self, batch, batch_idx): # type: ignore\n",
    "        _, loss, acc = self._get_metrics(batch)\n",
    "        self.log('val_loss', loss, prog_bar=True)\n",
    "        self.log('val_acc', acc, prog_bar=True)\n",
    "        return loss\n",
    "\n",
    "    def test_step(self, batch, batch_idx): # type: ignore\n",
    "        _, loss, acc = self._get_metrics(batch)\n",
    "        self.log('test_acc', acc)\n",
    "        return loss"
   ]
  },
  {
   "cell_type": "code",
   "execution_count": 5,
   "id": "641a302b",
   "metadata": {},
   "outputs": [],
   "source": [
    "# Some things we will reuse a couple of times\n",
    "TrainDataLoader = lambda ds: DataLoader(ds, batch_size=256, shuffle=True, num_workers=0)\n",
    "TestDataLoader = lambda ds: DataLoader(ds, batch_size=1024, shuffle=False, num_workers=0)\n",
    "Trainer = lambda kwargs={}: pl.Trainer(\n",
    "        accelerator='cpu',\n",
    "        max_epochs=15,\n",
    "        log_every_n_steps=5,\n",
    "        enable_model_summary=False,\n",
    "        callbacks=[pl_callbacks.TQDMProgressBar(refresh_rate=0)],\n",
    "        **kwargs\n",
    ")"
   ]
  },
  {
   "cell_type": "markdown",
   "id": "3063c643",
   "metadata": {},
   "source": [
    "## Train the population\n",
    "Takes about a minute (because CPU only)."
   ]
  },
  {
   "cell_type": "code",
   "execution_count": 6,
   "id": "102189ac",
   "metadata": {},
   "outputs": [
    {
     "name": "stdout",
     "output_type": "stream",
     "text": [
      "Model 0\n",
      "────────────────────────────────────────────────────────────────────────────────────────────────────────────────────────\n",
      "       Test metric             DataLoader 0\n",
      "────────────────────────────────────────────────────────────────────────────────────────────────────────────────────────\n",
      "        test_acc            0.8961937427520752\n",
      "────────────────────────────────────────────────────────────────────────────────────────────────────────────────────────\n",
      "Model 1\n",
      "────────────────────────────────────────────────────────────────────────────────────────────────────────────────────────\n",
      "       Test metric             DataLoader 0\n",
      "────────────────────────────────────────────────────────────────────────────────────────────────────────────────────────\n",
      "        test_acc            0.8512110710144043\n",
      "────────────────────────────────────────────────────────────────────────────────────────────────────────────────────────\n",
      "Model 2\n",
      "────────────────────────────────────────────────────────────────────────────────────────────────────────────────────────\n",
      "       Test metric             DataLoader 0\n",
      "────────────────────────────────────────────────────────────────────────────────────────────────────────────────────────\n",
      "        test_acc            0.8838821649551392\n",
      "────────────────────────────────────────────────────────────────────────────────────────────────────────────────────────\n",
      "Model 3\n",
      "────────────────────────────────────────────────────────────────────────────────────────────────────────────────────────\n",
      "       Test metric             DataLoader 0\n",
      "────────────────────────────────────────────────────────────────────────────────────────────────────────────────────────\n",
      "        test_acc            0.8076256513595581\n",
      "────────────────────────────────────────────────────────────────────────────────────────────────────────────────────────\n"
     ]
    }
   ],
   "source": [
    "# Enumerating the dataset helps with managing the evaluation results later\n",
    "ds = EnumerateDataset(SegmentDataset()) \n",
    "\n",
    "n_folds = 4\n",
    "folds = kfold(ds, n_folds)\n",
    "models = []\n",
    "for k, (train_ds, test_ds) in enumerate(folds):\n",
    "    # Remove idx from the enumerated instances (we don't need it for training).\n",
    "    remove_idx = lambda idx_inst: idx_inst[1]\n",
    "    train_ds = TransformDataset(train_ds, remove_idx)\n",
    "    test_ds = TransformDataset(test_ds, remove_idx)\n",
    "    print(f\"Model {k}\")\n",
    "\n",
    "    model = SegmentModel()\n",
    "    trainer = Trainer()\n",
    "    trainer.fit(model, TrainDataLoader(train_ds), TestDataLoader(test_ds))\n",
    "    trainer.test(model, TestDataLoader(test_ds))\n",
    "    models.append(model)"
   ]
  },
  {
   "cell_type": "markdown",
   "id": "313e4292",
   "metadata": {},
   "source": [
    "## Create Dataset of Evaluation Results"
   ]
  },
  {
   "cell_type": "code",
   "execution_count": 7,
   "metadata": {},
   "outputs": [
    {
     "name": "stdout",
     "output_type": "stream",
     "text": [
      "      syst_id  inst_id  y  y_hat      conf  score\n",
      "0           0        0  4      4  0.549221      1\n",
      "1           0        2  5      5  0.973850      1\n",
      "2           0       11  6      6  0.811455      1\n",
      "3           0       13  4      4  0.920242      1\n",
      "4           0       14  3      3  0.983669      1\n",
      "...       ...      ... ..    ...       ...    ...\n",
      "2305        3     2296  2      2  0.596334      1\n",
      "2306        3     2301  6      6  0.445601      1\n",
      "2307        3     2304  1      0  0.497132      0\n",
      "2308        3     2306  5      5  0.993515      1\n",
      "2309        3     2309  0      0  0.645020      1\n",
      "\n",
      "[2310 rows x 6 columns]\n"
     ]
    }
   ],
   "source": [
    "trainer = Trainer()\n",
    "results_buffer = [] \n",
    "for syst_id, (model, (train_ds, test_ds)) in enumerate(zip(models, folds)):\n",
    "    select_idx = lambda idx_inst: idx_inst[0]\n",
    "    select_features = lambda idx_inst: idx_inst[1][0]\n",
    "    select_target = lambda idx_inst: idx_inst[1][1]\n",
    "\n",
    "    predict_ds = TransformDataset(test_ds, select_features)\n",
    "    predictions: Any = trainer.predict(model, TestDataLoader(predict_ds))[0] # type: ignore\n",
    "\n",
    "    df = pd.DataFrame({\n",
    "        \"syst_id\": syst_id,\n",
    "        \"inst_id\": list(TransformDataset(test_ds, select_idx)),       # type: ignore\n",
    "        \"y\"      : list(TransformDataset(test_ds, select_target)), # type: ignore\n",
    "        \"y_hat\"  : torch.argmax(predictions, dim=1),\n",
    "        \"conf\"   : torch.max(predictions, dim=1)[0],\n",
    "    })\n",
    "\n",
    "    df['score'] = df.apply(lambda row: int(row.y == row.y_hat), axis=1)\n",
    "    results_buffer.append(df)\n",
    "\n",
    "results: pd.DataFrame = pd.concat(results_buffer, ignore_index=True) # type: ignore\n",
    "print(results)"
   ]
  },
  {
   "cell_type": "code",
   "execution_count": 8,
   "id": "bb3bc752",
   "metadata": {},
   "outputs": [
    {
     "name": "stdout",
     "output_type": "stream",
     "text": [
      "2310 1732 578\n",
      "(2, array([-1.3286656 , -0.1986608 ,  0.        , -0.35704732, -0.1945517 ,\n",
      "       -0.43423897, -0.11800148, -0.5178754 , -0.13743018, -0.81548804,\n",
      "       -0.7339649 , -0.84943306, -0.8444383 ,  1.4028448 , -0.8953564 ,\n",
      "        0.11027234, -0.8757806 ,  0.5134453 ,  0.19716294], dtype=float32), 1)\n"
     ]
    }
   ],
   "source": [
    "class EvalResultDataset(Dataset):\n",
    "    def __init__(self, df: pd.DataFrame, base: Dataset):\n",
    "        self.df = df\n",
    "        self.base = base\n",
    "\n",
    "    def __getitem__(self, idx):\n",
    "        inst = self.base[self.df['inst_id'].iloc[idx]]\n",
    "        inst_features = inst[1][0]\n",
    "        syst_id = self.df['syst_id'].iloc[idx]\n",
    "        score = self.df['score'].iloc[idx]\n",
    "        return syst_id, inst_features, score\n",
    "\n",
    "    def __len__(self):\n",
    "        return len(self.df)\n",
    "\n",
    "results_train: Any = results.sample(frac=0.75, random_state=SEED) \n",
    "results_test: Any = results.drop(results_train.index)\n",
    "assr_train_ds = EvalResultDataset(results_train, ds)\n",
    "assr_test_ds = EvalResultDataset(results_test, ds)\n",
    "print(len(results), len(assr_train_ds), len(assr_test_ds))\n",
    "print(assr_train_ds[0])"
   ]
  },
  {
   "cell_type": "markdown",
   "id": "0f6ba1ca",
   "metadata": {},
   "source": [
    "## Define the Assessor model"
   ]
  },
  {
   "cell_type": "code",
   "execution_count": 9,
   "id": "68438486",
   "metadata": {},
   "outputs": [],
   "source": [
    "class SegmentAssessorModel(pl.LightningModule):\n",
    "    def __init__(\n",
    "        self, \n",
    "        hidden_dim: int = 10, \n",
    "        system_specialisation: int = 0,\n",
    "        specialisation_weight: int = 4,\n",
    "    ):\n",
    "        super().__init__()\n",
    "        self.hidden_dim = hidden_dim\n",
    "        self.system_specialisation = system_specialisation\n",
    "        self.specialisation_weight = specialisation_weight\n",
    "        self.model = torch.nn.Sequential(\n",
    "            torch.nn.Linear(19+1, hidden_dim),\n",
    "            torch.nn.ReLU(),\n",
    "            torch.nn.Linear(hidden_dim, 1),\n",
    "            torch.nn.Sigmoid()\n",
    "        )\n",
    "        self.accuracy = torchmetrics.Accuracy()\n",
    "\n",
    "    def configure_optimizers(self):  # type: ignore\n",
    "        return torch.optim.Adam(self.parameters(), lr=0.007)\n",
    "\n",
    "    def forward(self, *args):\n",
    "        syst_id, x = args\n",
    "        x = torch.column_stack((x, syst_id))\n",
    "        return self.model(x)\n",
    "\n",
    "    def _get_metrics(self, batch):\n",
    "        syst_id, x, y = batch\n",
    "        probs = self(syst_id, x).squeeze()\n",
    "\n",
    "        # Set higher instance weights for a specific system,\n",
    "        # specialising the assessor for that system.\n",
    "        syst_idx = self.system_specialisation\n",
    "        idx_w = self.specialisation_weight\n",
    "        weights = syst_id.squeeze().apply_(lambda idx: idx_w if idx == syst_idx else 1)\n",
    "\n",
    "        loss = torch.nn.BCELoss(weights)(probs, y.float())\n",
    "        acc = self.accuracy(probs, y)\n",
    "        return probs, loss, acc\n",
    "\n",
    "    def training_step(self, batch, _): #type: ignore\n",
    "        _, loss, acc = self._get_metrics(batch)\n",
    "        self.log('train_loss', loss, on_step=True, on_epoch=True)\n",
    "        self.log('train_acc', acc, on_step=True, on_epoch=True)\n",
    "        return loss\n",
    "\n",
    "    def validation_step(self, batch, _): # type: ignore\n",
    "        _, loss, acc = self._get_metrics(batch)\n",
    "        self.log('val_loss', loss, prog_bar=True)\n",
    "        self.log('val_acc', acc, prog_bar=True)\n",
    "        return loss\n",
    "\n",
    "    def test_step(self, batch, _): # type: ignore\n",
    "        _, loss, acc = self._get_metrics(batch)\n",
    "        self.log('test_loss', loss)\n",
    "        self.log('test_acc', acc)\n",
    "        return loss\n",
    "\n",
    "    def predict_step(self, batch, _): # type: ignore\n",
    "        syst_id, x, = batch\n",
    "        return self(syst_id, x)"
   ]
  },
  {
   "cell_type": "markdown",
   "id": "349843f7",
   "metadata": {},
   "source": [
    "## Train the Assessor model"
   ]
  },
  {
   "cell_type": "code",
   "execution_count": 10,
   "id": "1532a0e2",
   "metadata": {},
   "outputs": [
    {
     "name": "stdout",
     "output_type": "stream",
     "text": [
      "────────────────────────────────────────────────────────────────────────────────────────────────────────────────────────\n",
      "       Test metric             DataLoader 0\n",
      "────────────────────────────────────────────────────────────────────────────────────────────────────────────────────────\n",
      "        test_acc            0.8564013838768005\n",
      "        test_loss           0.6090085506439209\n",
      "────────────────────────────────────────────────────────────────────────────────────────────────────────────────────────\n"
     ]
    },
    {
     "data": {
      "text/plain": [
       "[{'test_loss': 0.6090085506439209, 'test_acc': 0.8564013838768005}]"
      ]
     },
     "execution_count": 10,
     "metadata": {},
     "output_type": "execute_result"
    }
   ],
   "source": [
    "assessor = SegmentAssessorModel(system_specialisation=0, specialisation_weight=4)\n",
    "trainer = Trainer()\n",
    "trainer.fit(assessor, TrainDataLoader(assr_train_ds), TestDataLoader(assr_test_ds))\n",
    "trainer.test(assessor, TestDataLoader(assr_test_ds))"
   ]
  },
  {
   "cell_type": "markdown",
   "id": "3f165f97",
   "metadata": {},
   "source": [
    "## Plot results\n",
    "\n",
    "Note: A big difficulty in evaluating assessors, especially when comparing against specific systems, is that the overlap between the system test set and the assessor tests set can be quite small. And as with everything in AI, if test distribution != deployment distribution, aggregate metrics don't mean much anymore, so this is not easily resolved."
   ]
  },
  {
   "cell_type": "code",
   "execution_count": 11,
   "metadata": {},
   "outputs": [
    {
     "data": {
      "text/plain": [
       "139"
      ]
     },
     "execution_count": 11,
     "metadata": {},
     "output_type": "execute_result"
    }
   ],
   "source": [
    "# Get assessor confidence for each instance\n",
    "predict_ds = TransformDataset(assr_test_ds, lambda id_x_score: id_x_score[:2])\n",
    "assr_preds = trainer.predict(assessor, TestDataLoader(predict_ds))[0] # type: ignore\n",
    "assr_conf = torch.max(assr_preds, dim=1)[0] # type: ignore\n",
    "\n",
    "# Put it together with the system results\n",
    "df = results_test.copy()\n",
    "df['assr_conf'] = assr_conf\n",
    "\n",
    "# And select the results for a specific system we care about\n",
    "df = df[df.syst_id == 0]\n",
    "len(df)"
   ]
  },
  {
   "cell_type": "code",
   "execution_count": 12,
   "id": "f54399da",
   "metadata": {},
   "outputs": [
    {
     "name": "stdout",
     "output_type": "stream",
     "text": [
      "Test instances shared between assessor and system x: 139\n"
     ]
    },
    {
     "data": {
      "image/png": "[encoded data removed]",
      "text/plain": [
       "<Figure size 648x288 with 1 Axes>"
      ]
     },
     "metadata": {
      "needs_background": "light"
     },
     "output_type": "display_data"
    }
   ],
   "source": [
    "labels = SegmentDataset().label_encoder.classes_\n",
    "\n",
    "def calc_stats(df):\n",
    "    print(f\"Test instances shared between assessor and system x:\", len(df))\n",
    "    return {\n",
    "        \"global\": {\n",
    "            \"system_acc\": df.score.mean(),\n",
    "            \"system_predicted_acc\": df.conf.mean(),\n",
    "            \"assessor_predicted_acc\": df.assr_conf.mean()\n",
    "        },\n",
    "        \"per_class\": {\n",
    "            \"system_acc\": df.groupby(['y']).score.mean().to_list(),\n",
    "            \"system_predicted_acc\": df.groupby(['y']).conf.mean().to_list(),\n",
    "            \"assessor_predicted_acc\": df.groupby(['y']).assr_conf.mean().to_list()\n",
    "        }\n",
    "    }\n",
    "\n",
    "import colorsys\n",
    "def lighten(rgb, scale):\n",
    "    h, l, s = colorsys.rgb_to_hls(*rgb[:-1])\n",
    "    return colorsys.hls_to_rgb(h, min(1, l * scale), s=s)\n",
    "\n",
    "def plot_stats(stats):\n",
    "    fig, ax = plt.subplots(figsize=(9, 4))\n",
    "    x = np.arange(len(labels))\n",
    "    width = 0.28\n",
    "\n",
    "    # Plot per-class bars\n",
    "    per_class = stats['per_class']\n",
    "    b1 = ax.bar(x - width * 1, per_class['system_acc'], width, label=\"System accuracy\")\n",
    "    b2 = ax.bar(x - width * 0.0, per_class['system_predicted_acc'],width,label=\"by system\")\n",
    "    b3 = ax.bar(x + width * 1,per_class['assessor_predicted_acc'],width,label=\"by assessor\")\n",
    "    \n",
    "    # Draw horizontal lines for global accs\n",
    "    corresponding_color = lambda bar: lighten(bar.patches[0].get_facecolor(), 0.8)\n",
    "    def draw_hline(y, color, with_diff=False):\n",
    "        label = f\"{y:.3f}\"\n",
    "        line = ax.axhline(y, ls=\"dotted\", lw=4, c=color, label=label)\n",
    "        return line\n",
    "    l1 = draw_hline(stats[\"global\"]['system_acc'], corresponding_color(b1))\n",
    "    l2 = draw_hline(stats[\"global\"]['system_predicted_acc'], corresponding_color(b2))\n",
    "    l3 = draw_hline(stats[\"global\"]['assessor_predicted_acc'], corresponding_color(b3))\n",
    "\n",
    "    # Style plot\n",
    "    ax.set_xlabel(\"class\", fontweight=\"bold\")\n",
    "    ax.set_ylabel(\"accuracy\", fontweight=\"bold\")\n",
    "    ax.set_xticks(x)\n",
    "    ax.set_xticklabels(labels)\n",
    "    line_legend = ax.legend(handles=[l1, l2, l3], loc=\"lower right\")\n",
    "    ax.add_artist(line_legend)\n",
    "    dummy1 = ax.bar(0, [0], label=' ', color='#00000000')\n",
    "    dummy2 = ax.bar(0, [0], label='Accuracy predicted', color='#00000000')\n",
    "    ax.legend(loc=\"lower left\", handles=[b1, dummy1, dummy2, b2, b3])\n",
    "\n",
    "stats = calc_stats(df)\n",
    "plot_stats(stats)"
   ]
  },
  {
   "cell_type": "markdown",
   "id": "a41443dd",
   "metadata": {},
   "source": [
    "## Plot Original Results"
   ]
  },
  {
   "cell_type": "code",
   "execution_count": 13,
   "id": "cbb07b12",
   "metadata": {},
   "outputs": [
    {
     "name": "stdout",
     "output_type": "stream",
     "text": [
      "   inst_id  y  syst_id  score  assr_conf      conf\n",
      "1     2164  3        1    1.0   0.991621  0.968752\n",
      "5     2165  5        1    1.0   0.999867  0.996408\n",
      "9     2166  0        1    1.0   0.862427  0.609692\n",
      "Test instances shared between assessor and system x: 144\n"
     ]
    },
    {
     "data": {
      "image/png": "[encoded data removed]",
      "text/plain": [
       "<Figure size 648x288 with 1 Axes>"
      ]
     },
     "metadata": {
      "needs_background": "light"
     },
     "output_type": "display_data"
    }
   ],
   "source": [
    "import json\n",
    "\n",
    "orig = pd.read_csv(\"original_results.csv\")\n",
    "orig.drop(columns=[\"syst_features\", \"syst_pred_loss\", \"assr_pred_loss\"], inplace=True)\n",
    "orig['assr_conf'] = orig.assr_conf.apply(lambda x: np.array(json.loads(x))[0])\n",
    "orig['conf'] = orig.syst_prediction.apply(lambda x: np.max(np.array(json.loads(x))))\n",
    "orig.drop(columns=[\"syst_prediction\"], inplace=True)\n",
    "orig = orig[orig.syst_id == 1]\n",
    "print(orig.head(3))\n",
    "\n",
    "stats = calc_stats(orig)\n",
    "plot_stats(stats)"
   ]
  }
 ],
 "metadata": {
  "interpreter": {
   "hash": "abb19eb266efdf736dd678259e5afe5ac1184f1b79ca97abfa748095b93d8621"
  },
  "kernelspec": {
   "display_name": "Python 3.9.5 ('.venv': poetry)",
   "language": "python",
   "name": "python3"
  },
  "language_info": {
   "codemirror_mode": {
    "name": "ipython",
    "version": 3
   },
   "file_extension": ".py",
   "mimetype": "text/x-python",
   "name": "python",
   "nbconvert_exporter": "python",
   "pygments_lexer": "ipython3",
   "version": "3.9.5"
  }
 },
 "nbformat": 4,
 "nbformat_minor": 5
}
