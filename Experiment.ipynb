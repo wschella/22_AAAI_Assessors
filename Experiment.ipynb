{
 "cells": [
  {
   "cell_type": "code",
   "execution_count": 5,
   "id": "2a1d71c1-768c-4192-a371-479cae41b522",
   "metadata": {},
   "outputs": [],
   "source": [
    "from typing import *\n",
    "from pathlib import Path\n",
    "\n",
    "import torch\n",
    "import torchmetrics\n",
    "import pytorch_lightning as pl\n",
    "import pytorch_lightning.callbacks as pl_callbacks\n",
    "import pandas as pd\n",
    "import numpy as np\n",
    "import matplotlib.pyplot as plt\n",
    "from torch.utils.data import DataLoader, Dataset, Subset\n",
    "from sklearn import preprocessing\n",
    "from sklearn.model_selection import KFold"
   ]
  },
  {
   "cell_type": "code",
   "execution_count": 6,
   "id": "96481596-4242-4562-a152-3bd4da399897",
   "metadata": {},
   "outputs": [],
   "source": [
    "class SegmentDataset(Dataset):\n",
    "    def __init__(self, data_dir: str = './'):\n",
    "        self.data_dir = data_dir\n",
    "        self.n_classes = 7\n",
    "        self.label_encoder = preprocessing.LabelEncoder()\n",
    "        self.scaler = preprocessing.StandardScaler()\n",
    "\n",
    "        df = pd.read_csv(Path(self.data_dir) / 'segment.csv')\n",
    "        targets = df.pop('class')\n",
    "        self.features = pd.DataFrame(self.scaler.fit_transform(df), columns=df.columns).astype(np.float32)\n",
    "        self.targets = pd.DataFrame(self.label_encoder.fit_transform(targets))\n",
    "\n",
    "    def __getitem__(self, idx):\n",
    "        return self.features.iloc[idx].to_numpy(), self.targets.iloc[idx][0] # type: ignore\n",
    "\n",
    "    def __len__(self):\n",
    "        return len(self.features)\n",
    "\n",
    "def kfold(dataset: Dataset, n_folds: int):\n",
    "    length = len(dataset) # type: ignore\n",
    "    splits = list(KFold(n_splits=n_folds, shuffle=True, random_state=42).split(range(length)))\n",
    "    return [(Subset(dataset, train_indices), Subset(dataset, test_indices)) for train_indices, test_indices in splits]\n",
    "\n",
    "class TransformDataset(Dataset):\n",
    "    def __init__(self, dataset: Dataset, transform):\n",
    "        self.dataset = dataset\n",
    "        self.transform = transform\n",
    "\n",
    "    def __getitem__(self, idx):\n",
    "        return self.transform(self.dataset[idx])\n",
    "    \n",
    "    def __len__(self):\n",
    "        return len(self.dataset) # type: ignore\n",
    "\n",
    "class EnumerateDataset(Dataset):\n",
    "    def __init__(self, dataset: Dataset):\n",
    "        self.dataset = dataset\n",
    "    \n",
    "    def __getitem__(self, idx):\n",
    "        return idx, self.dataset[idx]\n",
    "    \n",
    "    def __len__(self):\n",
    "        return len(self.dataset) # type: ignore"
   ]
  },
  {
   "cell_type": "code",
   "execution_count": 7,
   "id": "eef2ac4e",
   "metadata": {},
   "outputs": [],
   "source": [
    "class SegmentModel(pl.LightningModule):\n",
    "    def __init__(self, hidden_dim: int = 10, num_classes: int = 7):\n",
    "        super().__init__()\n",
    "        self.hidden_dim = hidden_dim\n",
    "        self.num_classes = num_classes\n",
    "        self.model = torch.nn.Sequential(\n",
    "            torch.nn.Linear(19, hidden_dim),\n",
    "            torch.nn.ReLU(),\n",
    "            torch.nn.Linear(hidden_dim, num_classes),\n",
    "            torch.nn.Softmax(dim=1)\n",
    "        )\n",
    "        # self.loss = F.nll_loss\n",
    "        self.loss = torch.nn.CrossEntropyLoss()\n",
    "        self.accuracy = torchmetrics.Accuracy()\n",
    "\n",
    "    def configure_optimizers(self):  # type: ignore\n",
    "        return torch.optim.Adam(self.parameters(), lr=0.007)\n",
    "\n",
    "    def forward(self, x): # type: ignore\n",
    "        return self.model(x)\n",
    "\n",
    "    def _get_metrics(self, batch):\n",
    "        x, y = batch\n",
    "        logits = self(x)\n",
    "        loss = self.loss(logits, y)\n",
    "        preds = torch.argmax(logits, dim=1)\n",
    "        acc = self.accuracy(preds, y)\n",
    "        return logits, loss, acc\n",
    "\n",
    "    def training_step(self, batch, batch_idx): #type: ignore\n",
    "        _, loss, acc = self._get_metrics(batch)\n",
    "        self.log('train_loss', loss, on_step=True, on_epoch=True)\n",
    "        self.log('train_acc', acc, on_step=True, on_epoch=True)\n",
    "        return loss\n",
    "\n",
    "    def validation_step(self, batch, batch_idx): # type: ignore\n",
    "        _, loss, acc = self._get_metrics(batch)\n",
    "        self.log('val_loss', loss, prog_bar=True)\n",
    "        self.log('val_acc', acc, prog_bar=True)\n",
    "        return loss\n",
    "\n",
    "    def test_step(self, batch, batch_idx): # type: ignore\n",
    "        _, loss, acc = self._get_metrics(batch)\n",
    "        self.log('test_loss', loss)\n",
    "        self.log('test_acc', acc)\n",
    "        return loss"
   ]
  },
  {
   "cell_type": "code",
   "execution_count": 24,
   "id": "641a302b",
   "metadata": {},
   "outputs": [],
   "source": [
    "# Some things we will reuse a couple of times\n",
    "TrainDataLoader = lambda ds: DataLoader(ds, batch_size=256, shuffle=True, num_workers=4)\n",
    "TestDataLoader = lambda ds: DataLoader(ds, batch_size=1024, shuffle=False, num_workers=4)\n",
    "Trainer = lambda kwargs={}: pl.Trainer(\n",
    "        accelerator='cpu',\n",
    "        max_epochs=15,\n",
    "        log_every_n_steps=5,\n",
    "        enable_model_summary=False,\n",
    "        callbacks=[pl_callbacks.TQDMProgressBar(refresh_rate=0)],\n",
    "        **kwargs\n",
    ")"
   ]
  },
  {
   "cell_type": "code",
   "execution_count": 8,
   "id": "102189ac",
   "metadata": {},
   "outputs": [
    {
     "name": "stderr",
     "output_type": "stream",
     "text": [
      "GPU available: True, used: False\n",
      "TPU available: False, using: 0 TPU cores\n",
      "IPU available: False, using: 0 IPUs\n",
      "HPU available: False, using: 0 HPUs\n"
     ]
    },
    {
     "name": "stdout",
     "output_type": "stream",
     "text": [
      "1732 578\n"
     ]
    },
    {
     "name": "stderr",
     "output_type": "stream",
     "text": [
      "/home/wout/pp/22_AAAI_Assessors/.venv/lib/python3.9/site-packages/pytorch_lightning/trainer/trainer.py:1814: PossibleUserWarning: GPU available but not used. Set `accelerator` and `devices` using `Trainer(accelerator='gpu', devices=2)`.\n",
      "  rank_zero_warn(\n",
      "GPU available: True, used: False\n",
      "TPU available: False, using: 0 TPU cores\n",
      "IPU available: False, using: 0 IPUs\n",
      "HPU available: False, using: 0 HPUs\n"
     ]
    },
    {
     "name": "stdout",
     "output_type": "stream",
     "text": [
      "────────────────────────────────────────────────────────────────────────────────────────────────────────────────────────\n",
      "       Test metric             DataLoader 0\n",
      "────────────────────────────────────────────────────────────────────────────────────────────────────────────────────────\n",
      "        test_acc            0.7595155835151672\n",
      "        test_loss           1.4209301471710205\n",
      "────────────────────────────────────────────────────────────────────────────────────────────────────────────────────────\n",
      "1732 578\n"
     ]
    },
    {
     "name": "stderr",
     "output_type": "stream",
     "text": [
      "GPU available: True, used: False\n",
      "TPU available: False, using: 0 TPU cores\n",
      "IPU available: False, using: 0 IPUs\n",
      "HPU available: False, using: 0 HPUs\n"
     ]
    },
    {
     "name": "stdout",
     "output_type": "stream",
     "text": [
      "────────────────────────────────────────────────────────────────────────────────────────────────────────────────────────\n",
      "       Test metric             DataLoader 0\n",
      "────────────────────────────────────────────────────────────────────────────────────────────────────────────────────────\n",
      "        test_acc            0.8840830326080322\n",
      "        test_loss            1.326959252357483\n",
      "────────────────────────────────────────────────────────────────────────────────────────────────────────────────────────\n",
      "1733 577\n"
     ]
    },
    {
     "name": "stderr",
     "output_type": "stream",
     "text": [
      "GPU available: True, used: False\n",
      "TPU available: False, using: 0 TPU cores\n",
      "IPU available: False, using: 0 IPUs\n",
      "HPU available: False, using: 0 HPUs\n"
     ]
    },
    {
     "name": "stdout",
     "output_type": "stream",
     "text": [
      "────────────────────────────────────────────────────────────────────────────────────────────────────────────────────────\n",
      "       Test metric             DataLoader 0\n",
      "────────────────────────────────────────────────────────────────────────────────────────────────────────────────────────\n",
      "        test_acc            0.8700173497200012\n",
      "        test_loss            1.345636010169983\n",
      "────────────────────────────────────────────────────────────────────────────────────────────────────────────────────────\n",
      "1733 577\n",
      "────────────────────────────────────────────────────────────────────────────────────────────────────────────────────────\n",
      "       Test metric             DataLoader 0\n",
      "────────────────────────────────────────────────────────────────────────────────────────────────────────────────────────\n",
      "        test_acc            0.8804159164428711\n",
      "        test_loss           1.3257087469100952\n",
      "────────────────────────────────────────────────────────────────────────────────────────────────────────────────────────\n"
     ]
    }
   ],
   "source": [
    "ds = EnumerateDataset(SegmentDataset())\n",
    "n_folds = 4\n",
    "folds = kfold(ds, n_folds)\n",
    "models = []\n",
    "for (train_ds, test_ds) in folds:\n",
    "    # Remove idx from the instances (we don't need it for training).\n",
    "    remove_idx = lambda idx_inst: idx_inst[1]\n",
    "    train_ds = TransformDataset(train_ds, remove_idx)\n",
    "    test_ds = TransformDataset(test_ds, remove_idx)\n",
    "    print(len(train_ds), len(test_ds))\n",
    "\n",
    "    model = SegmentModel()\n",
    "    trainer = Trainer()\n",
    "    trainer.fit(model, TrainDataLoader(train_ds), TestDataLoader(test_ds))\n",
    "    trainer.test(model, TestDataLoader(test_ds))\n",
    "    models.append(model)"
   ]
  },
  {
   "cell_type": "markdown",
   "id": "313e4292",
   "metadata": {},
   "source": [
    "## Create Dataset of Evaluation Results"
   ]
  },
  {
   "cell_type": "code",
   "execution_count": 43,
   "metadata": {},
   "outputs": [
    {
     "name": "stderr",
     "output_type": "stream",
     "text": [
      "GPU available: True, used: False\n",
      "TPU available: False, using: 0 TPU cores\n",
      "IPU available: False, using: 0 IPUs\n",
      "HPU available: False, using: 0 HPUs\n",
      "/home/wout/pp/22_AAAI_Assessors/.venv/lib/python3.9/site-packages/pytorch_lightning/trainer/trainer.py:1814: PossibleUserWarning: GPU available but not used. Set `accelerator` and `devices` using `Trainer(accelerator='gpu', devices=2)`.\n",
      "  rank_zero_warn(\n"
     ]
    },
    {
     "name": "stdout",
     "output_type": "stream",
     "text": [
      "      syst_id   idx  y  y_hat      conf  score\n",
      "0           0     8  2      2  0.998619      1\n",
      "1           0    13  4      4  0.934014      1\n",
      "2           0    18  1      1  0.918890      1\n",
      "3           0    23  5      5  0.997706      1\n",
      "4           0    25  6      6  0.814521      1\n",
      "...       ...   ... ..    ...       ...    ...\n",
      "2305        3  2284  4      4  0.968161      1\n",
      "2306        3  2291  0      0  0.666785      1\n",
      "2307        3  2292  4      4  0.953209      1\n",
      "2308        3  2294  0      0  0.908316      1\n",
      "2309        3  2309  0      0  0.483759      1\n",
      "\n",
      "[2310 rows x 6 columns]\n"
     ]
    }
   ],
   "source": [
    "trainer = pl.Trainer(callbacks=[pl_callbacks.TQDMProgressBar(refresh_rate=0)], max_epochs=1)\n",
    "results_buffer = [] \n",
    "for syst_id, (model, (train_ds, test_ds)) in enumerate(zip(models, folds)):\n",
    "    select_idx = lambda idx_inst: idx_inst[0]\n",
    "    select_features = lambda idx_inst: idx_inst[1][0]\n",
    "    select_target = lambda idx_inst: idx_inst[1][1]\n",
    "\n",
    "    predict_ds = TransformDataset(test_ds, select_features)\n",
    "    predictions: Any = trainer.predict(model, TestDataLoader(predict_ds))[0] # type: ignore\n",
    "\n",
    "    df = pd.DataFrame({\n",
    "        \"syst_id\": syst_id,\n",
    "        \"idx\"    : list(TransformDataset(test_ds, select_idx)),       # type: ignore\n",
    "        \"y\"      : list(TransformDataset(test_ds, select_target)), # type: ignore\n",
    "        \"y_hat\"  : torch.argmax(predictions, dim=1),\n",
    "        \"conf\"   : torch.max(predictions, dim=1)[0],\n",
    "    })\n",
    "\n",
    "    df['score'] = df.apply(lambda row: int(row.y == row.y_hat), axis=1)\n",
    "    results_buffer.append(df)\n",
    "\n",
    "results: pd.DataFrame = pd.concat(results_buffer, ignore_index=True) # type: ignore\n",
    "print(results)"
   ]
  },
  {
   "cell_type": "code",
   "execution_count": 45,
   "id": "bb3bc752",
   "metadata": {},
   "outputs": [
    {
     "name": "stdout",
     "output_type": "stream",
     "text": [
      "2310 1848 462\n"
     ]
    }
   ],
   "source": [
    "class EvalResultDataset(Dataset):\n",
    "    def __init__(self, df: pd.DataFrame, base: Dataset):\n",
    "        self.df = df\n",
    "        self.base = base\n",
    "\n",
    "    def __getitem__(self, idx):\n",
    "        inst = self.base[self.df['idx'].iloc[idx]]\n",
    "        inst_features = inst[1][0]\n",
    "        syst_id = self.df['syst_id'].iloc[idx]\n",
    "        score = self.df['score'].iloc[idx]\n",
    "        return syst_id, inst_features, score\n",
    "\n",
    "    def __len__(self):\n",
    "        return len(self.df)\n",
    "\n",
    "results_train: Any = results.sample(frac=0.8, random_state=42) \n",
    "results_test: Any = results.drop(results_train.index)\n",
    "assr_train_ds = EvalResultDataset(results_train, ds)\n",
    "assr_test_ds = EvalResultDataset(results_test, ds)\n",
    "print(len(results), len(assr_train_ds), len(assr_test_ds))"
   ]
  },
  {
   "cell_type": "markdown",
   "id": "0f6ba1ca",
   "metadata": {},
   "source": [
    "## Define the Assessor model"
   ]
  },
  {
   "cell_type": "code",
   "execution_count": 14,
   "id": "68438486",
   "metadata": {},
   "outputs": [],
   "source": [
    "class SegmentAssessorModel(pl.LightningModule):\n",
    "    def __init__(self, hidden_dim: int = 10, num_classes: int = 2):\n",
    "        super().__init__()\n",
    "        self.hidden_dim = hidden_dim\n",
    "        self.num_classes = num_classes\n",
    "        self.model = torch.nn.Sequential(\n",
    "            torch.nn.Linear(19+1, hidden_dim),\n",
    "            torch.nn.ReLU(),\n",
    "            torch.nn.Linear(hidden_dim, num_classes),\n",
    "            torch.nn.Softmax(dim=1)\n",
    "        )\n",
    "        self.loss = torch.nn.CrossEntropyLoss()\n",
    "        self.accuracy = torchmetrics.Accuracy()\n",
    "\n",
    "    def configure_optimizers(self):  # type: ignore\n",
    "        return torch.optim.Adam(self.parameters(), lr=0.007)\n",
    "\n",
    "    def forward(self, *args):\n",
    "        syst_id, x = args\n",
    "        x = torch.column_stack((x, syst_id))\n",
    "        return self.model(x)\n",
    "\n",
    "    def _get_metrics(self, batch):\n",
    "        syst_id, x, y = batch\n",
    "        logits = self(syst_id, x)\n",
    "        loss = self.loss(logits, y)\n",
    "        preds = torch.argmax(logits, dim=1)\n",
    "        acc = self.accuracy(preds, y)\n",
    "        return logits, loss, acc\n",
    "\n",
    "    def training_step(self, batch, _): #type: ignore\n",
    "        _, loss, acc = self._get_metrics(batch)\n",
    "        self.log('train_loss', loss, on_step=True, on_epoch=True)\n",
    "        self.log('train_acc', acc, on_step=True, on_epoch=True)\n",
    "        return loss\n",
    "\n",
    "    def validation_step(self, batch, _): # type: ignore\n",
    "        _, loss, acc = self._get_metrics(batch)\n",
    "        self.log('val_loss', loss, prog_bar=True)\n",
    "        self.log('val_acc', acc, prog_bar=True)\n",
    "        return loss\n",
    "\n",
    "    def test_step(self, batch, _): # type: ignore\n",
    "        _, loss, acc = self._get_metrics(batch)\n",
    "        self.log('test_loss', loss)\n",
    "        self.log('test_acc', acc)\n",
    "        return loss\n",
    "\n",
    "    def predict_step(self, batch, _): # type: ignore\n",
    "        syst_id, x, = batch\n",
    "        return self(syst_id, x)"
   ]
  },
  {
   "cell_type": "markdown",
   "id": "349843f7",
   "metadata": {},
   "source": [
    "## Train the Assessor model"
   ]
  },
  {
   "cell_type": "code",
   "execution_count": 46,
   "id": "1532a0e2",
   "metadata": {},
   "outputs": [
    {
     "name": "stderr",
     "output_type": "stream",
     "text": [
      "GPU available: True, used: False\n",
      "TPU available: False, using: 0 TPU cores\n",
      "IPU available: False, using: 0 IPUs\n",
      "HPU available: False, using: 0 HPUs\n",
      "/home/wout/pp/22_AAAI_Assessors/.venv/lib/python3.9/site-packages/pytorch_lightning/trainer/trainer.py:1814: PossibleUserWarning: GPU available but not used. Set `accelerator` and `devices` using `Trainer(accelerator='gpu', devices=2)`.\n",
      "  rank_zero_warn(\n"
     ]
    },
    {
     "name": "stdout",
     "output_type": "stream",
     "text": [
      "────────────────────────────────────────────────────────────────────────────────────────────────────────────────────────\n",
      "       Test metric             DataLoader 0\n",
      "────────────────────────────────────────────────────────────────────────────────────────────────────────────────────────\n",
      "        test_acc            0.8571428656578064\n",
      "        test_loss           0.4571196436882019\n",
      "────────────────────────────────────────────────────────────────────────────────────────────────────────────────────────\n"
     ]
    },
    {
     "data": {
      "text/plain": [
       "[{'test_loss': 0.4571196436882019, 'test_acc': 0.8571428656578064}]"
      ]
     },
     "execution_count": 46,
     "metadata": {},
     "output_type": "execute_result"
    }
   ],
   "source": [
    "assessor = SegmentAssessorModel()\n",
    "trainer = pl.Trainer(\n",
    "    accelerator='cpu',\n",
    "    max_epochs=15,\n",
    "    log_every_n_steps=5,\n",
    "    enable_model_summary=False,\n",
    "    callbacks=[\n",
    "        pl_callbacks.TQDMProgressBar(refresh_rate=0),\n",
    "    ]\n",
    ")\n",
    "trainer.fit(assessor, TrainDataLoader(assr_train_ds), TestDataLoader(assr_test_ds))\n",
    "trainer.test(assessor, DataLoader(assr_test_ds, batch_size=1024, num_workers=12))"
   ]
  },
  {
   "cell_type": "markdown",
   "id": "3f165f97",
   "metadata": {},
   "source": [
    "## Plot results"
   ]
  },
  {
   "cell_type": "code",
   "execution_count": 64,
   "metadata": {},
   "outputs": [
    {
     "data": {
      "text/plain": [
       "99"
      ]
     },
     "execution_count": 64,
     "metadata": {},
     "output_type": "execute_result"
    }
   ],
   "source": [
    "# Get assessor confidence for each instance\n",
    "predict_ds = TransformDataset(assr_test_ds, lambda id_x_score: id_x_score[:2])\n",
    "assr_preds = trainer.predict(assessor, TestDataLoader(predict_ds))[0] # type: ignore\n",
    "assr_conf = torch.max(assr_preds, dim=1)[0] # type: ignore\n",
    "\n",
    "# Put it together with the system results\n",
    "df = results_test.copy()\n",
    "df['assr_conf'] = assr_conf\n",
    "\n",
    "# And select the results for a specific system we care about\n",
    "df = df[df.syst_id == 0]\n",
    "len(df)"
   ]
  },
  {
   "cell_type": "code",
   "execution_count": 66,
   "id": "f54399da",
   "metadata": {},
   "outputs": [
    {
     "name": "stdout",
     "output_type": "stream",
     "text": [
      "Test instances shared between assessor and system x: 99\n"
     ]
    },
    {
     "data": {
      "image/png": "[encoded data removed]",
      "text/plain": [
       "<Figure size 648x288 with 1 Axes>"
      ]
     },
     "metadata": {
      "needs_background": "light"
     },
     "output_type": "display_data"
    }
   ],
   "source": [
    "labels = SegmentDataset().label_encoder.classes_\n",
    "\n",
    "def calc_stats(df):\n",
    "    print(f\"Test instances shared between assessor and system x:\", len(df))\n",
    "    return {\n",
    "        \"global\": {\n",
    "            \"system_acc\": df.score.mean(),\n",
    "            \"system_predicted_acc\": df.conf.mean(),\n",
    "            \"assessor_predicted_acc\": df.assr_conf.mean()\n",
    "        },\n",
    "        \"per_class\": {\n",
    "            \"system_acc\": df.groupby(['y']).score.mean().to_list(),\n",
    "            \"system_predicted_acc\": df.groupby(['y']).conf.mean().to_list(),\n",
    "            \"assessor_predicted_acc\": df.groupby(['y']).assr_conf.mean().to_list()\n",
    "        }\n",
    "    }\n",
    "\n",
    "import colorsys\n",
    "def lighten(rgb, scale):\n",
    "    h, l, s = colorsys.rgb_to_hls(*rgb[:-1])\n",
    "    return colorsys.hls_to_rgb(h, min(1, l * scale), s=s)\n",
    "\n",
    "def plot_stats(stats):\n",
    "    fig, ax = plt.subplots(figsize=(9, 4))\n",
    "    x = np.arange(len(labels))\n",
    "    width = 0.28\n",
    "\n",
    "    # Plot per-class bars\n",
    "    per_class = stats['per_class']\n",
    "    b1 = ax.bar(x - width * 1, per_class['system_acc'], width, label=\"System accuracy\")\n",
    "    b2 = ax.bar(x - width * 0.0, per_class['system_predicted_acc'],width,label=\"System self predicted accuracy\")\n",
    "    b3 = ax.bar(x + width * 1,per_class['assessor_predicted_acc'],width,label=\"Assessor predicted accuracy\")\n",
    "    \n",
    "    # Draw horizontal lines for global accs\n",
    "    corresponding_color = lambda bar: lighten(bar.patches[0].get_facecolor(), 0.8)\n",
    "    def draw_hline(y, color, with_diff=False):\n",
    "        label = f\"{y:.3f}\"\n",
    "        line = ax.axhline(y, ls=\"dotted\", lw=4, c=color, label=label)\n",
    "        return line\n",
    "    l1 = draw_hline(stats[\"global\"]['system_acc'], corresponding_color(b1))\n",
    "    l2 = draw_hline(stats[\"global\"]['system_predicted_acc'], corresponding_color(b2))\n",
    "    l3 = draw_hline(stats[\"global\"]['assessor_predicted_acc'], corresponding_color(b3))\n",
    "\n",
    "    # Style plot\n",
    "    ax.set_xlabel(\"class\", fontweight=\"bold\")\n",
    "    ax.set_ylabel(\"accuracy\", fontweight=\"bold\")\n",
    "    ax.set_xticks(x)\n",
    "    ax.set_xticklabels(labels)\n",
    "    line_legend = ax.legend(handles=[l1, l2, l3], loc=\"lower right\")\n",
    "    ax.add_artist(line_legend)\n",
    "    ax.legend(loc=\"lower left\", handles=[b1, b2, b3])\n",
    "\n",
    "    # return fig\n",
    "\n",
    "stats = calc_stats(df)\n",
    "plot_stats(stats)"
   ]
  },
  {
   "cell_type": "code",
   "execution_count": 53,
   "id": "fb518525-bf9f-4f72-9e89-93151d752f4f",
   "metadata": {},
   "outputs": [
    {
     "data": {
      "text/plain": [
       "array(['brickface', 'cement', 'foliage', 'grass', 'path', 'sky', 'window'],\n",
       "      dtype=object)"
      ]
     },
     "metadata": {},
     "output_type": "display_data"
    },
    {
     "data": {
      "image/png": "[encoded data removed]",
      "text/plain": [
       "<Figure size 600x300 with 1 Axes>"
      ]
     },
     "metadata": {},
     "output_type": "display_data"
    }
   ],
   "source": [
    "\n",
    "\n",
    "ds = pd.read_csv(\"datasets/segment_brodley.csv\")\n",
    "labels = preprocessing.LabelEncoder().fit(ds['class']).classes_\n",
    "display(labels)\n",
    "\n",
    "def plot(df, syst_threshold, asss_threshold, syst_id):\n",
    "    fig, ax = plt.subplots(figsize=(6, 3))\n",
    "    if syst_id is not None:\n",
    "        df = df.loc[df.syst_id == syst_id]\n",
    "    data = rr.plotting.failure_quantification_per_class(df, syst_threshold, asss_threshold)\n",
    "    rr.plotting.plot_failure_quantification_per_class(ax, data, labels, with_support=False, with_diff=False)\n",
    "    return fig\n",
    "\n",
    "# fig = plot(df, syst_threshold=None, asss_threshold=0.5, syst_id=5)\n",
    "fig = plot(df, syst_threshold=None, asss_threshold=None, syst_id=1)\n",
    "fig.tight_layout()\n",
    "fig.savefig(\"plot.png\")"
   ]
  },
  {
   "cell_type": "code",
   "execution_count": null,
   "id": "19d9649f-1114-467c-889c-5cfddb886950",
   "metadata": {},
   "outputs": [],
   "source": []
  }
 ],
 "metadata": {
  "interpreter": {
   "hash": "abb19eb266efdf736dd678259e5afe5ac1184f1b79ca97abfa748095b93d8621"
  },
  "kernelspec": {
   "display_name": "Python 3.9.5 ('.venv': poetry)",
   "language": "python",
   "name": "python3"
  },
  "language_info": {
   "codemirror_mode": {
    "name": "ipython",
    "version": 3
   },
   "file_extension": ".py",
   "mimetype": "text/x-python",
   "name": "python",
   "nbconvert_exporter": "python",
   "pygments_lexer": "ipython3",
   "version": "3.9.5"
  }
 },
 "nbformat": 4,
 "nbformat_minor": 5
}
